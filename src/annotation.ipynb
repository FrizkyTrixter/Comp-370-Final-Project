{
 "cells": [
  {
   "cell_type": "code",
   "execution_count": 2,
   "metadata": {},
   "outputs": [
    {
     "data": {
      "text/html": [
       "<div>\n",
       "<style scoped>\n",
       "    .dataframe tbody tr th:only-of-type {\n",
       "        vertical-align: middle;\n",
       "    }\n",
       "\n",
       "    .dataframe tbody tr th {\n",
       "        vertical-align: top;\n",
       "    }\n",
       "\n",
       "    .dataframe thead th {\n",
       "        text-align: right;\n",
       "    }\n",
       "</style>\n",
       "<table border=\"1\" class=\"dataframe\">\n",
       "  <thead>\n",
       "    <tr style=\"text-align: right;\">\n",
       "      <th></th>\n",
       "      <th>Title</th>\n",
       "      <th>Author</th>\n",
       "      <th>Description</th>\n",
       "      <th>Content</th>\n",
       "      <th>Published At</th>\n",
       "      <th>URL</th>\n",
       "      <th>Coding</th>\n",
       "    </tr>\n",
       "  </thead>\n",
       "  <tbody>\n",
       "    <tr>\n",
       "      <th>0</th>\n",
       "      <td>Joe Rogan endorsed Donald Trump, saying Elon M...</td>\n",
       "      <td>Erin Snodgrass</td>\n",
       "      <td>Joe Rogan, who interviewed Donald Trump on his...</td>\n",
       "      <td>Joe Rogan endorsed Donald Trump ahead of the e...</td>\n",
       "      <td>2024-11-05T02:52:54Z</td>\n",
       "      <td>https://www.businessinsider.com/joe-rogan-endo...</td>\n",
       "      <td>NaN</td>\n",
       "    </tr>\n",
       "    <tr>\n",
       "      <th>1</th>\n",
       "      <td>Trump praises Elon Musk in election night spee...</td>\n",
       "      <td>Brent D. Griffiths</td>\n",
       "      <td>Donald Trump called Tesla CEO Elon Musk \"an am...</td>\n",
       "      <td>Former President Donald Trump basked in the ne...</td>\n",
       "      <td>2024-11-06T08:05:03Z</td>\n",
       "      <td>https://www.businessinsider.com/trump-praises-...</td>\n",
       "      <td>NaN</td>\n",
       "    </tr>\n",
       "    <tr>\n",
       "      <th>2</th>\n",
       "      <td>Mark Cuban praises Trump's 'great personality'...</td>\n",
       "      <td>Lloyd Lee</td>\n",
       "      <td>Mark Cuban told Business Insider that \"we all ...</td>\n",
       "      <td>\"I truly don't hate him at all. I just think h...</td>\n",
       "      <td>2024-10-26T02:48:21Z</td>\n",
       "      <td>https://www.businessinsider.com/mark-cuban-don...</td>\n",
       "      <td>NaN</td>\n",
       "    </tr>\n",
       "    <tr>\n",
       "      <th>3</th>\n",
       "      <td>What the Trump biopic 'The Apprentice' got rig...</td>\n",
       "      <td>Eve Crosbie</td>\n",
       "      <td>The new Donald Trump biopic, which opened in U...</td>\n",
       "      <td>Sebastian Stan transforms into Donald Trump in...</td>\n",
       "      <td>2024-10-19T10:44:15Z</td>\n",
       "      <td>https://www.businessinsider.com/the-apprentice...</td>\n",
       "      <td>NaN</td>\n",
       "    </tr>\n",
       "    <tr>\n",
       "      <th>4</th>\n",
       "      <td>Ivanka Trump has been absent from the 2024 cam...</td>\n",
       "      <td>Talia Lakritz</td>\n",
       "      <td>Ivanka Trump stepped back from politics when D...</td>\n",
       "      <td>Ivanka Trump is no longer active in politics.J...</td>\n",
       "      <td>2024-10-24T13:14:02Z</td>\n",
       "      <td>https://www.businessinsider.com/ivanka-trump-d...</td>\n",
       "      <td>NaN</td>\n",
       "    </tr>\n",
       "  </tbody>\n",
       "</table>\n",
       "</div>"
      ],
      "text/plain": [
       "                                               Title              Author  \\\n",
       "0  Joe Rogan endorsed Donald Trump, saying Elon M...      Erin Snodgrass   \n",
       "1  Trump praises Elon Musk in election night spee...  Brent D. Griffiths   \n",
       "2  Mark Cuban praises Trump's 'great personality'...           Lloyd Lee   \n",
       "3  What the Trump biopic 'The Apprentice' got rig...         Eve Crosbie   \n",
       "4  Ivanka Trump has been absent from the 2024 cam...       Talia Lakritz   \n",
       "\n",
       "                                         Description  \\\n",
       "0  Joe Rogan, who interviewed Donald Trump on his...   \n",
       "1  Donald Trump called Tesla CEO Elon Musk \"an am...   \n",
       "2  Mark Cuban told Business Insider that \"we all ...   \n",
       "3  The new Donald Trump biopic, which opened in U...   \n",
       "4  Ivanka Trump stepped back from politics when D...   \n",
       "\n",
       "                                             Content          Published At  \\\n",
       "0  Joe Rogan endorsed Donald Trump ahead of the e...  2024-11-05T02:52:54Z   \n",
       "1  Former President Donald Trump basked in the ne...  2024-11-06T08:05:03Z   \n",
       "2  \"I truly don't hate him at all. I just think h...  2024-10-26T02:48:21Z   \n",
       "3  Sebastian Stan transforms into Donald Trump in...  2024-10-19T10:44:15Z   \n",
       "4  Ivanka Trump is no longer active in politics.J...  2024-10-24T13:14:02Z   \n",
       "\n",
       "                                                 URL  Coding  \n",
       "0  https://www.businessinsider.com/joe-rogan-endo...     NaN  \n",
       "1  https://www.businessinsider.com/trump-praises-...     NaN  \n",
       "2  https://www.businessinsider.com/mark-cuban-don...     NaN  \n",
       "3  https://www.businessinsider.com/the-apprentice...     NaN  \n",
       "4  https://www.businessinsider.com/ivanka-trump-d...     NaN  "
      ]
     },
     "execution_count": 2,
     "metadata": {},
     "output_type": "execute_result"
    }
   ],
   "source": [
    "import pandas as pd\n",
    "\n",
    "file_path = '../data/cleaned_data.tsv'\n",
    "df = pd.read_csv(file_path, sep='\\t')\n",
    "\n",
    "df.head()\n"
   ]
  },
  {
   "cell_type": "code",
   "execution_count": 4,
   "metadata": {},
   "outputs": [],
   "source": [
    "df_sample = df.sample(n=200, random_state=1)\n",
    "df_sample = df_sample[['Title', 'Content', 'Coding']]\n",
    "df_sample.to_csv('../data/sample_data_for_oc.tsv', sep='\\t', index=False)\n",
    "\n"
   ]
  },
  {
   "cell_type": "code",
   "execution_count": 17,
   "metadata": {},
   "outputs": [
    {
     "name": "stdout",
     "output_type": "stream",
     "text": [
      "Coding\n",
      "Unlabeled                                    68\n",
      "Candidate Campaigning & Strategy             21\n",
      "Election Coverage & Polling Results          20\n",
      "Miscellaneous Campaign Events & Anecdotes    16\n",
      "Candidate Endorsements & Influencers         16\n",
      "Economic and Market Impact                   15\n",
      "Legal & Controversy Coverage                 15\n",
      "Social & Cultural Commentary                  8\n",
      "International Relations & Foreign Policy      6\n",
      "Media & Public Opinion Analysis               5\n",
      "Policy Proposals & Political Stances          5\n",
      "Personal & Character Assessments              5\n",
      "Name: count, dtype: int64\n"
     ]
    }
   ],
   "source": [
    "#For the sample annotated data, count the coding column and how many of each coding there are\n",
    "labeled_sample = pd.read_csv('../data/labeled_sample_data_for_oc.tsv', sep='\\t')\n",
    "count = labeled_sample['Coding'].value_counts()\n",
    "print(count)"
   ]
  },
  {
   "cell_type": "code",
   "execution_count": 4,
   "metadata": {},
   "outputs": [
    {
     "name": "stdout",
     "output_type": "stream",
     "text": [
      "Coding\n",
      "Election Coverage & Polling Results          28\n",
      "Candidate Campaigning & Strategy             28\n",
      "Economic and Market Impact                   26\n",
      "Legal & Controversy Coverage                 23\n",
      "Miscellaneous Campaign Events & Anecdotes    20\n",
      "Candidate Endorsements & Influencers         20\n",
      "Social & Cultural Commentary                 12\n",
      "Policy Proposals & Political Stances         11\n",
      "Media & Public Opinion Analysis              10\n",
      "Personal & Character Assessments             10\n",
      "International Relations & Foreign Policy      9\n",
      "Only Name Mention(Other)                      3\n",
      "Name: count, dtype: int64\n"
     ]
    }
   ],
   "source": [
    "data = pd.read_csv('../data/labeled_sample_data_for_oc.tsv', sep='\\t')\n",
    "print(data['Coding'].value_counts())"
   ]
  }
 ],
 "metadata": {
  "kernelspec": {
   "display_name": "Python 3",
   "language": "python",
   "name": "python3"
  },
  "language_info": {
   "codemirror_mode": {
    "name": "ipython",
    "version": 3
   },
   "file_extension": ".py",
   "mimetype": "text/x-python",
   "name": "python",
   "nbconvert_exporter": "python",
   "pygments_lexer": "ipython3",
   "version": "3.11.1"
  }
 },
 "nbformat": 4,
 "nbformat_minor": 2
}
